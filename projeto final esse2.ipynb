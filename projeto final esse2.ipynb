{
 "cells": [
  {
   "cell_type": "code",
   "execution_count": 2,
   "metadata": {},
   "outputs": [],
   "source": [
    "# dei um pip install notify e pip install requests\n",
    "import requests\n",
    "from notifypy import Notify\n",
    "\n",
    "# alertas usando Notify\n",
    "def alerta(mensagem):  \n",
    "    notification = Notify()\n",
    "    notification.title = \"Alerta\"\n",
    "    notification.message = mensagem\n",
    "    notification.send()"
   ]
  },
  {
   "cell_type": "code",
   "execution_count": 4,
   "metadata": {},
   "outputs": [],
   "source": [
    "# obtendo os dados da API\n",
    "def fetch_data(url):  \n",
    "    try:\n",
    "        response = requests.get(url)\n",
    "        response.raise_for_status()  # avisar se o status nao for 200\n",
    "        return response.json()\n",
    "    except requests.exceptions.RequestException as e:\n",
    "        alerta(f\"Erro ao acessar a API: {e}\")\n",
    "        return None"
   ]
  },
  {
   "cell_type": "code",
   "execution_count": 6,
   "metadata": {},
   "outputs": [],
   "source": [
    "# URLs da PokeAPI\n",
    "base_url = \"https://pokeapi.co/api/v2/pokemon\""
   ]
  },
  {
   "cell_type": "code",
   "execution_count": 29,
   "metadata": {},
   "outputs": [],
   "source": [
    "# Pegando os dados das tabelas - Tabela 1: Lista de Pokémon\n",
    "def get_pokemon_list(limit=20):\n",
    "    data = fetch_data(f\"{base_url}?limit={limit}\")\n",
    "    if data:\n",
    "        pokemons = [{\"id\": p[\"url\"].split(\"/\")[-2], \"name\": p[\"name\"]} for p in data[\"results\"]]\n",
    "        return pokemons\n",
    "    return []"
   ]
  },
  {
   "cell_type": "code",
   "execution_count": 30,
   "metadata": {},
   "outputs": [],
   "source": [
    "# Tabela 2: Tipos de cada Pokémon\n",
    "def get_pokemon_types(pokemon_name):\n",
    "    data = fetch_data(f\"{base_url}/{pokemon_name}\")\n",
    "    if data:\n",
    "        types = [t[\"type\"][\"name\"] for t in data[\"types\"]]\n",
    "        return {\"name\": pokemon_name, \"types\": types}\n",
    "    return {\"name\": pokemon_name, \"types\": []}"
   ]
  },
  {
   "cell_type": "code",
   "execution_count": 31,
   "metadata": {},
   "outputs": [],
   "source": [
    "# Tabela 3: Estatísticas básicas de cada Pokémon\n",
    "def get_pokemon_stats(pokemon_name):\n",
    "    data = fetch_data(f\"{base_url}/{pokemon_name}\")\n",
    "    if data:\n",
    "        stats = {stat[\"stat\"][\"name\"]: stat[\"base_stat\"] for stat in data[\"stats\"]}\n",
    "        return {\"name\": pokemon_name, \"stats\": stats}\n",
    "    return {\"name\": pokemon_name, \"stats\": {}}"
   ]
  },
  {
   "cell_type": "code",
   "execution_count": 32,
   "metadata": {},
   "outputs": [],
   "source": [
    "# Testando as funções pra ver se funcionou\n",
    "pokemon_list = get_pokemon_list(limit=5)"
   ]
  },
  {
   "cell_type": "code",
   "execution_count": 33,
   "metadata": {},
   "outputs": [
    {
     "name": "stdout",
     "output_type": "stream",
     "text": [
      "Tabela 1: Lista de Pokémon\n",
      "[{'id': '1', 'name': 'bulbasaur'}, {'id': '2', 'name': 'ivysaur'}, {'id': '3', 'name': 'venusaur'}, {'id': '4', 'name': 'charmander'}, {'id': '5', 'name': 'charmeleon'}]\n",
      "Tabela 2: Tipos de bulbasaur\n",
      "{'name': 'bulbasaur', 'types': ['grass', 'poison']}\n",
      "Tabela 3: Estatísticas de bulbasaur\n",
      "{'name': 'bulbasaur', 'stats': {'hp': 45, 'attack': 49, 'defense': 49, 'special-attack': 65, 'special-defense': 65, 'speed': 45}}\n",
      "Tabela 2: Tipos de ivysaur\n",
      "{'name': 'ivysaur', 'types': ['grass', 'poison']}\n",
      "Tabela 3: Estatísticas de ivysaur\n",
      "{'name': 'ivysaur', 'stats': {'hp': 60, 'attack': 62, 'defense': 63, 'special-attack': 80, 'special-defense': 80, 'speed': 60}}\n",
      "Tabela 2: Tipos de venusaur\n",
      "{'name': 'venusaur', 'types': ['grass', 'poison']}\n",
      "Tabela 3: Estatísticas de venusaur\n",
      "{'name': 'venusaur', 'stats': {'hp': 80, 'attack': 82, 'defense': 83, 'special-attack': 100, 'special-defense': 100, 'speed': 80}}\n",
      "Tabela 2: Tipos de charmander\n",
      "{'name': 'charmander', 'types': ['fire']}\n",
      "Tabela 3: Estatísticas de charmander\n",
      "{'name': 'charmander', 'stats': {'hp': 39, 'attack': 52, 'defense': 43, 'special-attack': 60, 'special-defense': 50, 'speed': 65}}\n",
      "Tabela 2: Tipos de charmeleon\n",
      "{'name': 'charmeleon', 'types': ['fire']}\n",
      "Tabela 3: Estatísticas de charmeleon\n",
      "{'name': 'charmeleon', 'stats': {'hp': 58, 'attack': 64, 'defense': 58, 'special-attack': 80, 'special-defense': 65, 'speed': 80}}\n"
     ]
    }
   ],
   "source": [
    "# Colocando as condicionais dos alertas\n",
    "if not pokemon_list:\n",
    "    alerta(\"Nenhum Pokémon encontrado. Verifique a conexão com a API.\")\n",
    "else:\n",
    "    print(\"Tabela 1: Lista de Pokémon\")\n",
    "    print(pokemon_list)\n",
    "\n",
    "    for pokemon in pokemon_list:\n",
    "        types = get_pokemon_types(pokemon[\"name\"])\n",
    "        stats = get_pokemon_stats(pokemon[\"name\"])\n",
    "        if not types[\"types\"]:\n",
    "            alerta(f\"Erro ao buscar tipos do Pokémon {pokemon['name']}.\")\n",
    "        if not stats[\"stats\"]:\n",
    "            alerta(f\"Erro ao buscar estatísticas do Pokémon {pokemon['name']}.\")\n",
    "        \n",
    "        print(f\"Tabela 2: Tipos de {pokemon['name']}\")\n",
    "        print(types)\n",
    "        print(f\"Tabela 3: Estatísticas de {pokemon['name']}\")\n",
    "        print(stats)"
   ]
  },
  {
   "cell_type": "code",
   "execution_count": 34,
   "metadata": {},
   "outputs": [],
   "source": [
    "# Tratando as Bases\n",
    "import pandas as pd"
   ]
  },
  {
   "cell_type": "code",
   "execution_count": 38,
   "metadata": {},
   "outputs": [],
   "source": [
    "# Criando as tabelas com listas e dicionários\n",
    "pokemon_list = [\n",
    "    {\"id\": 1, \"name\": \"bulbasaur\"},\n",
    "    {\"id\": 2, \"name\": \"ivysaur\"},\n",
    "    {\"id\": 3, \"name\": \"venusaur\"},\n",
    "]\n",
    "\n",
    "pokemon_types = [\n",
    "    {\"name\": \"bulbasaur\", \"types\": [\"grass\", \"poison\"]},\n",
    "    {\"name\": \"ivysaur\", \"types\": [\"grass\", \"poison\"]},\n",
    "    {\"name\": \"venusaur\", \"types\": [\"grass\", \"poison\"]},\n",
    "]\n",
    "\n",
    "pokemon_stats = [\n",
    "    {\"name\": \"bulbasaur\", \"stats\": {\"hp\": 45, \"attack\": 49, \"defense\": 49}},\n",
    "    {\"name\": \"ivysaur\", \"stats\": {\"hp\": 60, \"attack\": 62, \"defense\": 63}},\n",
    "    {\"name\": \"venusaur\", \"stats\": {\"hp\": 80, \"attack\": 82, \"defense\": 83}},\n",
    "]"
   ]
  },
  {
   "cell_type": "code",
   "execution_count": 40,
   "metadata": {},
   "outputs": [],
   "source": [
    "# Convertendo listas de dicionários em DataFrames\n",
    "df_pokemon = pd.DataFrame(pokemon_list)\n",
    "df_types = pd.DataFrame(pokemon_types)\n",
    "df_stats = pd.DataFrame(pokemon_stats)\n"
   ]
  },
  {
   "cell_type": "code",
   "execution_count": 41,
   "metadata": {},
   "outputs": [],
   "source": [
    "# Tratamento das Bases\n",
    "\n",
    "# 1. Ajuste de Nomes das Colunas\n",
    "df_pokemon.rename(columns={\"id\": \"pokemon_id\", \"name\": \"pokemon_name\"}, inplace=True)\n",
    "df_types.rename(columns={\"name\": \"pokemon_name\", \"types\": \"pokemon_types\"}, inplace=True)\n",
    "df_stats.rename(columns={\"name\": \"pokemon_name\", \"stats\": \"pokemon_stats\"}, inplace=True)"
   ]
  },
  {
   "cell_type": "code",
   "execution_count": 42,
   "metadata": {},
   "outputs": [],
   "source": [
    "# Usando Unstack/Stack para tratamento de Dados - separando os tipos em múltiplas colunas\n",
    "df_types = df_types.explode(\"pokemon_types\")"
   ]
  },
  {
   "cell_type": "code",
   "execution_count": 43,
   "metadata": {},
   "outputs": [],
   "source": [
    "# Transformando os stats em colunas\n",
    "stats_expanded = df_stats[\"pokemon_stats\"].apply(pd.Series)\n",
    "df_stats = pd.concat([df_stats.drop(columns=[\"pokemon_stats\"]), stats_expanded], axis=1)"
   ]
  },
  {
   "cell_type": "code",
   "execution_count": 44,
   "metadata": {},
   "outputs": [],
   "source": [
    "# Tratamento de Missing Values\n",
    "df_pokemon.fillna(\"Unknown\", inplace=True)\n",
    "df_types.fillna(\"Unknown\", inplace=True)\n",
    "df_stats.fillna(0, inplace=True)"
   ]
  },
  {
   "cell_type": "code",
   "execution_count": 45,
   "metadata": {},
   "outputs": [],
   "source": [
    "# Tratamento de Tipos de Variáveis\n",
    "df_stats = df_stats.astype({\"hp\": int, \"attack\": int, \"defense\": int})"
   ]
  },
  {
   "cell_type": "code",
   "execution_count": 49,
   "metadata": {},
   "outputs": [],
   "source": [
    "# Filtragem de Dados - selecionando apenas Pokémon com hp > 10\n",
    "df_stats_filtered = df_stats[df_stats[\"hp\"] > 50]"
   ]
  },
  {
   "cell_type": "code",
   "execution_count": 50,
   "metadata": {},
   "outputs": [],
   "source": [
    "# Salvando as Bases Tratadas\n",
    "df_pokemon.to_csv(\"pokemon_list.csv\", index=False)\n",
    "df_types.to_csv(\"pokemon_types.csv\", index=False)\n",
    "df_stats_filtered.to_csv(\"pokemon_stats_filtered.csv\", index=False)"
   ]
  },
  {
   "cell_type": "code",
   "execution_count": 52,
   "metadata": {},
   "outputs": [
    {
     "name": "stdout",
     "output_type": "stream",
     "text": [
      "Tabela Pokémon:\n",
      "   pokemon_id pokemon_name\n",
      "0           1    bulbasaur\n",
      "1           2      ivysaur\n",
      "2           3     venusaur\n",
      "\n",
      "Tabela Tipos:\n",
      "  pokemon_name pokemon_types\n",
      "0    bulbasaur         grass\n",
      "0    bulbasaur        poison\n",
      "1      ivysaur         grass\n",
      "1      ivysaur        poison\n",
      "2     venusaur         grass\n",
      "\n",
      "Tabela Estatísticas Filtradas:\n",
      "  pokemon_name  hp  attack  defense\n",
      "1      ivysaur  60      62       63\n",
      "2     venusaur  80      82       83\n"
     ]
    }
   ],
   "source": [
    "# Verificando as tabelas tratadas\n",
    "print(\"Tabela Pokémon:\")\n",
    "print(df_pokemon.head())\n",
    "print(\"\\nTabela Tipos:\")\n",
    "print(df_types.head())\n",
    "print(\"\\nTabela Estatísticas Filtradas:\")\n",
    "print(df_stats_filtered.head())"
   ]
  }
 ],
 "metadata": {
  "kernelspec": {
   "display_name": "Python 3",
   "language": "python",
   "name": "python3"
  },
  "language_info": {
   "codemirror_mode": {
    "name": "ipython",
    "version": 3
   },
   "file_extension": ".py",
   "mimetype": "text/x-python",
   "name": "python",
   "nbconvert_exporter": "python",
   "pygments_lexer": "ipython3",
   "version": "3.11.9"
  }
 },
 "nbformat": 4,
 "nbformat_minor": 2
}
